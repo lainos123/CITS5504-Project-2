{
 "cells": [
  {
   "cell_type": "markdown",
   "metadata": {},
   "source": [
    "Property Graph from Arrows App"
   ]
  },
  {
   "cell_type": "markdown",
   "metadata": {
    "vscode": {
     "languageId": "plaintext"
    }
   },
   "source": [
    "```\n",
    "CREATE (:Person {readUser: \"\", gender: \"\", age: \"\", ageGroup: \"\"})-[:INVOLVED_IN]->(n0:Crash {crashID: \"\", crashType: \"\", numberFatalities: \"\", busInvolvement: \"\", heavyRigidTruckInvolvement: \"\", articulatedTruckInvolvement: \"\", speedLimit: \"\"})-[:OCCURED_AT]->(:Location {state: \"\", nationalRemoteAreas: \"\", `sa4Name`: \"\", lgaName: \"\", nationalRoadType: \"\"}),\n",
    "(n0)-[:HAPPENED_AT]->(:DateTime {month: \"\", year: \"\", dayOfWeek: \"\", time: \"\", timeOfDay: \"\", weekdayOrWeekend: \"\", christmasPeriod: \"\", easterPeriod: \"\"})\n",
    "```"
   ]
  }
 ],
 "metadata": {
  "language_info": {
   "name": "python"
  }
 },
 "nbformat": 4,
 "nbformat_minor": 2
}
