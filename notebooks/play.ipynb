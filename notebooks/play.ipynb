{
 "cells": [
  {
   "cell_type": "code",
   "execution_count": 1,
   "metadata": {},
   "outputs": [],
   "source": [
    "import pandas as pd\n",
    "\n",
    "data = pd.read_csv(\"../data/original/Project2_Dataset.csv\")\n",
    "data_corrected = pd.read_csv(\"../data/original/Project2_Dataset_Corrected.csv\")"
   ]
  },
  {
   "cell_type": "code",
   "execution_count": null,
   "metadata": {},
   "outputs": [],
   "source": [
    "# # See the difference btween the corrected and uncorrected datasets\n",
    "# Filter rows where Crash ID is 20164024\n",
    "# data[data['Crash ID'] == 20164024]\n",
    "# # Inspect differences in rows 9135 and 9136\n",
    "\n",
    "# # see which rows are different\n",
    "# data[data != data_corrected].dropna(how='all')\n",
    "\n",
    "\n",
    "# # compare row 9137 between both datasets\n",
    "# # Create a DataFrame to display rows side by side\n",
    "# comparison_df = pd.DataFrame({\n",
    "#     'Original': data.iloc[9136],\n",
    "#     'Corrected': data_corrected.iloc[9136]\n",
    "# })\n",
    "# comparison_df"
   ]
  },
  {
   "cell_type": "code",
   "execution_count": null,
   "metadata": {},
   "outputs": [],
   "source": []
  }
 ],
 "metadata": {
  "kernelspec": {
   "display_name": "base",
   "language": "python",
   "name": "python3"
  },
  "language_info": {
   "codemirror_mode": {
    "name": "ipython",
    "version": 3
   },
   "file_extension": ".py",
   "mimetype": "text/x-python",
   "name": "python",
   "nbconvert_exporter": "python",
   "pygments_lexer": "ipython3",
   "version": "3.12.2"
  }
 },
 "nbformat": 4,
 "nbformat_minor": 2
}
